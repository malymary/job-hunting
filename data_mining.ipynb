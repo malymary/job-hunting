{
 "cells": [
  {
   "cell_type": "code",
   "execution_count": 25,
   "metadata": {},
   "outputs": [
    {
     "ename": "ImportError",
     "evalue": "cannot import name 'preprocess' from 'functions' (c:\\Users\\1\\Desktop\\code\\job-hunting\\job-hunting\\functions.py)",
     "output_type": "error",
     "traceback": [
      "\u001b[1;31m---------------------------------------------------------------------------\u001b[0m",
      "\u001b[1;31mImportError\u001b[0m                               Traceback (most recent call last)",
      "\u001b[1;32mc:\\Users\\1\\Desktop\\code\\job-hunting\\job-hunting\\data_mining.ipynb Cell 1\u001b[0m in \u001b[0;36m1\n\u001b[1;32m----> <a href='vscode-notebook-cell:/c%3A/Users/1/Desktop/code/job-hunting/job-hunting/data_mining.ipynb#W1sZmlsZQ%3D%3D?line=0'>1</a>\u001b[0m \u001b[39mfrom\u001b[39;00m \u001b[39mfunctions\u001b[39;00m \u001b[39mimport\u001b[39;00m dump_json, get_vacancies, \\\n\u001b[0;32m      <a href='vscode-notebook-cell:/c%3A/Users/1/Desktop/code/job-hunting/job-hunting/data_mining.ipynb#W1sZmlsZQ%3D%3D?line=1'>2</a>\u001b[0m     get_full_descriptions, load_from_gdrive, \\\n\u001b[0;32m      <a href='vscode-notebook-cell:/c%3A/Users/1/Desktop/code/job-hunting/job-hunting/data_mining.ipynb#W1sZmlsZQ%3D%3D?line=2'>3</a>\u001b[0m     load_from_device, sort_skills_by_freq, make_cloud, \\\n\u001b[0;32m      <a href='vscode-notebook-cell:/c%3A/Users/1/Desktop/code/job-hunting/job-hunting/data_mining.ipynb#W1sZmlsZQ%3D%3D?line=3'>4</a>\u001b[0m     preprocess, preprocess_all, get_tf_idf_weights\n",
      "\u001b[1;31mImportError\u001b[0m: cannot import name 'preprocess' from 'functions' (c:\\Users\\1\\Desktop\\code\\job-hunting\\job-hunting\\functions.py)"
     ]
    }
   ],
   "source": [
    "from functions import dump_json, get_vacancies, \\\n",
    "    get_full_descriptions, load_from_gdrive, \\\n",
    "    load_from_device, sort_skills_by_freq, make_cloud, \\\n",
    "    preprocess, preprocess_all, get_tf_idf_weights"
   ]
  },
  {
   "cell_type": "code",
   "execution_count": null,
   "metadata": {},
   "outputs": [],
   "source": [
    "# vacancies_df = pd.DataFrame(vacancies_full)\n",
    "# Этот код выполняется примерно полчаса\n",
    "# preprocessed = preprocess_all(vacancies_df['description'])"
   ]
  },
  {
   "cell_type": "code",
   "execution_count": null,
   "metadata": {},
   "outputs": [
    {
     "ename": "NameError",
     "evalue": "name 'pd' is not defined",
     "output_type": "error",
     "traceback": [
      "\u001b[1;31m---------------------------------------------------------------------------\u001b[0m",
      "\u001b[1;31mNameError\u001b[0m                                 Traceback (most recent call last)",
      "\u001b[1;32mc:\\Users\\1\\Desktop\\code\\job-hunting\\job-hunting\\data_mining.ipynb Cell 1\u001b[0m in \u001b[0;36m1\n\u001b[1;32m----> <a href='vscode-notebook-cell:/c%3A/Users/1/Desktop/code/job-hunting/job-hunting/data_mining.ipynb#W0sZmlsZQ%3D%3D?line=0'>1</a>\u001b[0m vacancies_df \u001b[39m=\u001b[39m pd\u001b[39m.\u001b[39mDataFrame(vacancies_full)\n\u001b[0;32m      <a href='vscode-notebook-cell:/c%3A/Users/1/Desktop/code/job-hunting/job-hunting/data_mining.ipynb#W0sZmlsZQ%3D%3D?line=1'>2</a>\u001b[0m \u001b[39m# Этот код выполняется примерно полчаса\u001b[39;00m\n\u001b[0;32m      <a href='vscode-notebook-cell:/c%3A/Users/1/Desktop/code/job-hunting/job-hunting/data_mining.ipynb#W0sZmlsZQ%3D%3D?line=2'>3</a>\u001b[0m \u001b[39m# preprocessed = preprocess_all(vacancies_df['description'])\u001b[39;00m\n\u001b[0;32m      <a href='vscode-notebook-cell:/c%3A/Users/1/Desktop/code/job-hunting/job-hunting/data_mining.ipynb#W0sZmlsZQ%3D%3D?line=3'>4</a>\u001b[0m \n\u001b[0;32m      <a href='vscode-notebook-cell:/c%3A/Users/1/Desktop/code/job-hunting/job-hunting/data_mining.ipynb#W0sZmlsZQ%3D%3D?line=4'>5</a>\u001b[0m \u001b[39m# Вместо этого загрузим обработанные тексты с диска\u001b[39;00m\n\u001b[0;32m      <a href='vscode-notebook-cell:/c%3A/Users/1/Desktop/code/job-hunting/job-hunting/data_mining.ipynb#W0sZmlsZQ%3D%3D?line=5'>6</a>\u001b[0m preprocessed \u001b[39m=\u001b[39m load_from_google_drive(\n\u001b[0;32m      <a href='vscode-notebook-cell:/c%3A/Users/1/Desktop/code/job-hunting/job-hunting/data_mining.ipynb#W0sZmlsZQ%3D%3D?line=6'>7</a>\u001b[0m     \u001b[39m'\u001b[39m\u001b[39m14dcZnE_XvVeCgWCDgJSZiHgYJQm-TYvD\u001b[39m\u001b[39m'\u001b[39m, \u001b[39m'\u001b[39m\u001b[39mpreprocessed.json\u001b[39m\u001b[39m'\u001b[39m)\n",
      "\u001b[1;31mNameError\u001b[0m: name 'pd' is not defined"
     ]
    }
   ],
   "source": [
    "# Загрузим обработанные тексты с диска\n",
    "preprocessed = load_from_gdrive(\n",
    "    '14dcZnE_XvVeCgWCDgJSZiHgYJQm-TYvD', 'preprocessed.json')\n",
    "\n",
    "frequencies = get_tf_idf_weights(preprocessed)\n",
    "\n",
    "print('\\nКлючевые слова в описании вакансий:')\n",
    "cloud = make_cloud(frequencies)\n",
    "wc_descriptions = cloud.generate_from_frequencies(frequencies).to_image()\n",
    "wc_descriptions.show()\n",
    "wc_descriptions.save('word_cloud_descriptions.png')\n"
   ]
  }
 ],
 "metadata": {
  "kernelspec": {
   "display_name": "Python 3 (ipykernel)",
   "language": "python",
   "name": "python3"
  },
  "language_info": {
   "codemirror_mode": {
    "name": "ipython",
    "version": 3
   },
   "file_extension": ".py",
   "mimetype": "text/x-python",
   "name": "python",
   "nbconvert_exporter": "python",
   "pygments_lexer": "ipython3",
   "version": "3.9.13"
  },
  "orig_nbformat": 4
 },
 "nbformat": 4,
 "nbformat_minor": 2
}
